{
 "cells": [
  {
   "cell_type": "code",
   "execution_count": 6,
   "metadata": {},
   "outputs": [
    {
     "name": "stdout",
     "output_type": "stream",
     "text": [
      "SVG files have been updated.\n"
     ]
    }
   ],
   "source": [
    "from bs4 import BeautifulSoup\n",
    "\n",
    "# The new viewBox and preserveAspectRatio values\n",
    "new_viewBox = '0 0 2560 1440'\n",
    "new_preserveAspectRatio = 'xMidYMid meet'\n",
    "\n",
    "# The new width and height values\n",
    "new_width = '100%'\n",
    "new_height = '100%'\n",
    "\n",
    "# The file paths\n",
    "file_paths = [\"images/resting.svg\", \"images/active.svg\"]\n",
    "\n",
    "# Parse each file\n",
    "for file_path in file_paths:\n",
    "    # Open the file\n",
    "    with open(file_path, 'r+') as file:\n",
    "        # Parse the SVG with BeautifulSoup\n",
    "        soup = BeautifulSoup(file.read(), 'xml')\n",
    "\n",
    "        # Find the <svg> tag\n",
    "        svg_tag = soup.find('svg')\n",
    "\n",
    "        # Update the viewBox, preserveAspectRatio, width, and height attributes\n",
    "        svg_tag['viewBox'] = new_viewBox\n",
    "        svg_tag['preserveAspectRatio'] = new_preserveAspectRatio\n",
    "        svg_tag['width'] = new_width\n",
    "        svg_tag['height'] = new_height\n",
    "\n",
    "        # Find all paths with inkscape:label=\"trigger\" and set their id to \"trigger\"\n",
    "        trigger_paths = soup.select('path[inkscape\\\\:label=\"trigger\"]')\n",
    "        for path in trigger_paths:\n",
    "            path['id'] = 'trigger'\n",
    "\n",
    "        # Go back to the start of the file\n",
    "        file.seek(0)\n",
    "\n",
    "        # Write the new SVG back to the file\n",
    "        file.write(str(soup))\n",
    "\n",
    "        # Truncate the file in case the new SVG is shorter than the old one\n",
    "        file.truncate()\n",
    "\n",
    "print(\"SVG files have been updated.\")\n"
   ]
  }
 ],
 "metadata": {
  "kernelspec": {
   "display_name": "Python 3",
   "language": "python",
   "name": "python3"
  },
  "language_info": {
   "codemirror_mode": {
    "name": "ipython",
    "version": 3
   },
   "file_extension": ".py",
   "mimetype": "text/x-python",
   "name": "python",
   "nbconvert_exporter": "python",
   "pygments_lexer": "ipython3",
   "version": "3.7.0"
  },
  "orig_nbformat": 4
 },
 "nbformat": 4,
 "nbformat_minor": 2
}
